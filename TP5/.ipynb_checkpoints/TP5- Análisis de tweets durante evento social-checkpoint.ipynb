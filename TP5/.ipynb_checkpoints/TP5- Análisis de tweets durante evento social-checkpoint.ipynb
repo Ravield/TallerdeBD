{
 "cells": [
  {
   "cell_type": "code",
   "execution_count": 1,
   "metadata": {},
   "outputs": [
    {
     "ename": "ModuleNotFoundError",
     "evalue": "No module named 'elasticsearch'",
     "output_type": "error",
     "traceback": [
      "\u001b[1;31m---------------------------------------------------------------------------\u001b[0m",
      "\u001b[1;31mModuleNotFoundError\u001b[0m                       Traceback (most recent call last)",
      "\u001b[1;32m<ipython-input-1-94f023d1deaa>\u001b[0m in \u001b[0;36m<module>\u001b[1;34m()\u001b[0m\n\u001b[0;32m      1\u001b[0m \u001b[1;31m#CREAR UN INDEX PARA ALMACENAR LOS DATOS\u001b[0m\u001b[1;33m\u001b[0m\u001b[1;33m\u001b[0m\u001b[0m\n\u001b[1;32m----> 2\u001b[1;33m \u001b[1;32mfrom\u001b[0m \u001b[0melasticsearch\u001b[0m \u001b[1;32mimport\u001b[0m \u001b[0mElasticsearch\u001b[0m\u001b[1;33m\u001b[0m\u001b[0m\n\u001b[0m\u001b[0;32m      3\u001b[0m \u001b[1;32mimport\u001b[0m \u001b[0mpandas\u001b[0m \u001b[1;32mas\u001b[0m \u001b[0mpd\u001b[0m\u001b[1;33m\u001b[0m\u001b[0m\n\u001b[0;32m      4\u001b[0m \u001b[1;32mimport\u001b[0m \u001b[0mmatplotlib\u001b[0m\u001b[1;33m.\u001b[0m\u001b[0mpyplot\u001b[0m \u001b[1;32mas\u001b[0m \u001b[0mplt\u001b[0m\u001b[1;33m\u001b[0m\u001b[0m\n\u001b[0;32m      5\u001b[0m \u001b[1;32mimport\u001b[0m \u001b[0mpprint\u001b[0m\u001b[1;33m\u001b[0m\u001b[0m\n",
      "\u001b[1;31mModuleNotFoundError\u001b[0m: No module named 'elasticsearch'"
     ]
    }
   ],
   "source": [
    "#CREAR UN INDEX PARA ALMACENAR LOS DATOS\n",
    "from elasticsearch import Elasticsearch\n",
    "import pandas as pd\n",
    "import matplotlib.pyplot as plt\n",
    "import pprint\n",
    "import datetime\n",
    "es = Elasticsearch()\n",
    "\n",
    "\n",
    "def timestamp2date(x):\n",
    "    y = datetime.datetime.fromtimestamp(x/1000).strftime('%H:%M:%S')\n",
    "    return y\n",
    "\n",
    "if not(es.indices.exists(index=\"tp5-championstweets\")):\n",
    "    res = es.indices.create(index=\"tp5-championstweets\")  \n",
    "    pprint(res)"
   ]
  },
  {
   "cell_type": "markdown",
   "metadata": {},
   "source": [
    "<b>1) ¿Cuántos tweets tienen la palabra \"liverpool\"? ¿Cómo se distribuye los tweets en el tiempo (ver en un histograma)</b>"
   ]
  },
  {
   "cell_type": "code",
   "execution_count": 2,
   "metadata": {},
   "outputs": [
    {
     "ename": "NameError",
     "evalue": "name 'es' is not defined",
     "output_type": "error",
     "traceback": [
      "\u001b[1;31m---------------------------------------------------------------------------\u001b[0m",
      "\u001b[1;31mNameError\u001b[0m                                 Traceback (most recent call last)",
      "\u001b[1;32m<ipython-input-2-9a7a23d8eeea>\u001b[0m in \u001b[0;36m<module>\u001b[1;34m()\u001b[0m\n\u001b[1;32m----> 1\u001b[1;33m liverpool = es.search(index=\"tp5-championstweets\", \n\u001b[0m\u001b[0;32m      2\u001b[0m                       body={\n\u001b[0;32m      3\u001b[0m                           \"query\":{\n\u001b[0;32m      4\u001b[0m                               \"match\":{\n\u001b[0;32m      5\u001b[0m                                   \u001b[1;34m'text'\u001b[0m\u001b[1;33m:\u001b[0m\u001b[1;34m'liverpool'\u001b[0m\u001b[1;33m\u001b[0m\u001b[0m\n",
      "\u001b[1;31mNameError\u001b[0m: name 'es' is not defined"
     ]
    }
   ],
   "source": [
    "res = es.search(index=\"tp5-championstweets\", \n",
    "                      body={\n",
    "                          \"query\":{\n",
    "                              \"match\":{\n",
    "                                  'text':'liverpool'\n",
    "                              }\n",
    "                          },\n",
    "                          \"aggs\":{\n",
    "                              \"tweets_over_time\":{ \n",
    "                                  \"date_histogram\":{\n",
    "                                      \"field\":\"timestamp\",\"interval\":\"1m\"\n",
    "                                  }\n",
    "                              }\n",
    "                          }\n",
    "                      }\n",
    "                     )\n",
    "df_liverpool= pd.DataFrame(res['aggregations']['tweets_over_time']['buckets'])\n",
    "df_liverpool=df_liverpool.rename(columns={'key': 'tiempo', 'doc_count': 'numeroTweetsPalabraliverpool'})\n",
    "df_liverpool['tiempo']=df_liverpool['tiempo'].apply(timestamp2date)\n",
    "df_liverpool=df_liverpool.drop(df_liverpool[df_liverpool.numeroTweetsPalabraliverpool<290].index)\n",
    "df_liverpool.plot(kind='bar',figsize=(40,10),x='tiempo')\n",
    "plt.show()"
   ]
  },
  {
   "cell_type": "markdown",
   "metadata": {
    "scrolled": true
   },
   "source": [
    "<b>2) ¿De dónde vienen los tweets? (utilizar el campo 'location') </b>"
   ]
  },
  {
   "cell_type": "code",
   "execution_count": 16,
   "metadata": {},
   "outputs": [
    {
     "data": {
      "text/plain": [
       "<matplotlib.axes._subplots.AxesSubplot at 0x7f67903260f0>"
      ]
     },
     "execution_count": 16,
     "metadata": {},
     "output_type": "execute_result"
    },
    {
     "data": {
      "image/png": "[encoded data removed]",
      "text/plain": [
       "<Figure size 432x288 with 1 Axes>"
      ]
     },
     "metadata": {},
     "output_type": "display_data"
    }
   ],
   "source": [
    "res = es.search(index=\"tp5-championstweets\",\n",
    "                body={\n",
    "                    \"aggs\":{\n",
    "                        \"grb\":{\n",
    "                            \"terms\":{\n",
    "                                \"field\": \"location.keyword\"\n",
    "                            }\n",
    "                        }\n",
    "                    }\n",
    "                }\n",
    "               )\n",
    "df_location=pd.DataFrame(res['aggregations']['grb']['buckets'])\n",
    "df_location=df_location.rename(columns={'key': 'location', 'doc_count': 'numerotweets'})\n",
    "df_location.plot(kind=\"bar\",figsize=(40,10),x=\"location\")\n",
    "plt.show()\n"
   ]
  },
  {
   "cell_type": "markdown",
   "metadata": {},
   "source": [
    "<b>3) ¿Cuántos tweets tienen las palabras \"liverpool\" y \"goal\"? (ver en un histograma) </b>"
   ]
  },
  {
   "cell_type": "code",
   "execution_count": 3,
   "metadata": {},
   "outputs": [
    {
     "ename": "NameError",
     "evalue": "name 'es' is not defined",
     "output_type": "error",
     "traceback": [
      "\u001b[1;31m---------------------------------------------------------------------------\u001b[0m",
      "\u001b[1;31mNameError\u001b[0m                                 Traceback (most recent call last)",
      "\u001b[1;32m<ipython-input-3-a20a28092c70>\u001b[0m in \u001b[0;36m<module>\u001b[1;34m()\u001b[0m\n\u001b[1;32m----> 1\u001b[1;33m resgoal = es.search(index=\"tp5-championstweets\",\n\u001b[0m\u001b[0;32m      2\u001b[0m                     body={\n\u001b[0;32m      3\u001b[0m                         \"query\":{\n\u001b[0;32m      4\u001b[0m                             \"term\":{'text':'goal'}},\n\u001b[0;32m      5\u001b[0m                         \"aggs\":{\n",
      "\u001b[1;31mNameError\u001b[0m: name 'es' is not defined"
     ]
    }
   ],
   "source": [
    "resgoal = es.search(index=\"tp5-championstweets\",\n",
    "                    body={\n",
    "                        \"query\":{\n",
    "                            \"term\":{'text':'goal'}},\n",
    "                        \"aggs\":{\n",
    "                            \"tweets_over_time\":{\n",
    "                                \"date_histogram\":{\n",
    "                                    \"field\":\"timestamp\",\"interval\":\"1m\"\n",
    "                                }\n",
    "                            }\n",
    "                        }\n",
    "                    }\n",
    "                   )\n",
    "resliverpool=es.search(index=\"tp5-championstweets\",\n",
    "                       body={\n",
    "                           \"query\":{\n",
    "                               \"term\":{'text':'liverpool'}},\n",
    "                           \"aggs\":{\n",
    "                               \"tweets_over_time\":{\n",
    "                                   \"date_histogram\":{\n",
    "                                       \"field\":\"timestamp\",\"interval\":\"1m\"\n",
    "                                   }\n",
    "                               }\n",
    "                           }\n",
    "                       }\n",
    "                      )\n",
    "df_goal=pd.DataFrame(resgoal['aggregations']['tweets_over_time']['buckets'])\n",
    "df_lv=pd.DataFrame(resliverpool['aggregations']['tweets_over_time']['buckets'])\n",
    "df_goal=df_goal.rename(columns={'key': 'timestamp', 'doc_count': 'numerotweetgoal'})\n",
    "df_lv=df_lv.rename(columns={'key': 'timestamp', 'doc_count': 'numerotweetliverpool'})\n",
    "df_goal['timestamp']=df_goal['timestamp'].apply(timestamp2date)\n",
    "df_lv['timestamp']=df_lv['timestamp'].apply(timestamp2date)\n",
    "df_goalv=pd.merge(df_goal,df_lv,on='timestamp')\n",
    "df_goalv.plot(kind='bar',figsize=(40,10),x='timestamp')\n",
    "plt.show()"
   ]
  },
  {
   "cell_type": "markdown",
   "metadata": {},
   "source": [
    "<b>4) Graficar un Pie Chart comparando el número de tweets con: a) la palabra 'liverpool', b) la palabra 'madrid', c) la palabra 'madrid' y 'liverpool' d) ninguna de las palabras </b>"
   ]
  },
  {
   "cell_type": "code",
   "execution_count": 2,
   "metadata": {},
   "outputs": [
    {
     "ename": "NameError",
     "evalue": "name 'es' is not defined",
     "output_type": "error",
     "traceback": [
      "\u001b[1;31m---------------------------------------------------------------------------\u001b[0m",
      "\u001b[1;31mNameError\u001b[0m                                 Traceback (most recent call last)",
      "\u001b[1;32m<ipython-input-2-7cb5521c139b>\u001b[0m in \u001b[0;36m<module>\u001b[1;34m()\u001b[0m\n\u001b[1;32m----> 1\u001b[1;33m resmad = es.search(index=\"tp5-championstweets\",\n\u001b[0m\u001b[0;32m      2\u001b[0m                    body={\n\u001b[0;32m      3\u001b[0m                        \"query\":{\n\u001b[0;32m      4\u001b[0m                            \"term\":{'text':'madrid'}},\n\u001b[0;32m      5\u001b[0m                        \"aggs\":{\n",
      "\u001b[1;31mNameError\u001b[0m: name 'es' is not defined"
     ]
    }
   ],
   "source": [
    "resmad = es.search(index=\"tp5-championstweets\",\n",
    "                   body={\n",
    "                       \"query\":{\n",
    "                           \"term\":{'text':'madrid'}},\n",
    "                       \"aggs\":{\n",
    "                           \"tweets_over_time\":{\n",
    "                               \"date_histogram\":{\n",
    "                                   \"field\":\"timestamp\",\"interval\":\"1m\"\n",
    "                               }\n",
    "                           }\n",
    "                       }\n",
    "                   }\n",
    "                  )\n",
    "resmal = es.search(index=\"tp5-championstweets\",\n",
    "                   body={\n",
    "                       \"query\":{\n",
    "                           \"match\":{'text':'(madrid)+( )* (liverpool)+'}},\n",
    "                       \"aggs\":{\n",
    "                           \"tweets_over_time\":{\n",
    "                               \"date_histogram\":{\n",
    "                                   \"field\":\"timestamp\",\"interval\":\"1m\"\n",
    "                               }\n",
    "                           }\n",
    "                       }\n",
    "                   }\n",
    "                  )\n",
    "madrid=pd.DataFrame(resmad['aggregations']['tweets_over_time']['buckets'])\n",
    "mal=pd.DataFrame(resmal['aggregations']['tweets_over_time']['buckets'])\n",
    "madrid=madrid.rename(columns={'key': 'timestamp', 'doc_count': 'numerotweetmadrid'})\n",
    "mal=mal.rename(columns={'key': 'timestamp', 'doc_count': 'numerotweetmadrid + liverpool'})\n",
    "madrid['timestamp']=madrid['timestamp'].apply(timestamp2date)\n",
    "mal['timestamp']=mal['timestamp'].apply(timestamp2date)\n",
    "dff=pd.merge(mal,madrid,on='timestamp')\n",
    "dff=pd.merge(dff,lv,on='timestamp')\n",
    "dff[['numerotweetmadrid + liverpool','numerotweetmadrid','numerotweetliverpool']].sum().plot(kind='pie')\n",
    "plt.show()"
   ]
  },
  {
   "cell_type": "markdown",
   "metadata": {},
   "source": [
    "<b>5) ¿Cuáles son los emoticons más frecuentes? A partir de las visualizaciones disponibles en las librerias MatplotLib y/o Seaborn (seaborn.pydata.org), proponer una visualización para observar las emociones expresadas durante el partido </b>"
   ]
  },
  {
   "cell_type": "code",
   "execution_count": 1,
   "metadata": {},
   "outputs": [
    {
     "ename": "NameError",
     "evalue": "name 'es' is not defined",
     "output_type": "error",
     "traceback": [
      "\u001b[1;31m---------------------------------------------------------------------------\u001b[0m",
      "\u001b[1;31mNameError\u001b[0m                                 Traceback (most recent call last)",
      "\u001b[1;32m<ipython-input-1-763270c313a3>\u001b[0m in \u001b[0;36m<module>\u001b[1;34m()\u001b[0m\n\u001b[1;32m----> 1\u001b[1;33m feliz = es.search(index=\"tp5-championstweets\",\n\u001b[0m\u001b[0;32m      2\u001b[0m                   body={\n\u001b[0;32m      3\u001b[0m                       \"query\":{\n\u001b[0;32m      4\u001b[0m                           \"match\":{'text':'feliz'}}\n\u001b[0;32m      5\u001b[0m                   }\n",
      "\u001b[1;31mNameError\u001b[0m: name 'es' is not defined"
     ]
    }
   ],
   "source": [
    "feliz = es.search(index=\"tp5-championstweets\",\n",
    "                  body={\n",
    "                      \"query\":{\n",
    "                          \"match\":{'text':'feliz'}}\n",
    "                  }\n",
    "                 )\n",
    "triste= es.search(index=\"tp5-championstweets\",\n",
    "                  body={\n",
    "                      \"query\":{\n",
    "                          \"match\":{'text':'triste'}\n",
    "                      }\n",
    "                  }\n",
    "                 )\n",
    "enojado=es.search(index=\"tp5-championstweets\",\n",
    "                  body={\n",
    "                      \"query\":{\n",
    "                          \"match\":{'text':'enojado'}\n",
    "                      }\n",
    "                  }\n",
    "                 )\n",
    "sorprendido=es.search(index=\"tp5-championstweets\",\n",
    "                      body={\n",
    "                          \"query\":{\n",
    "                              \"match\":{'text':'sorprendido'}\n",
    "                          }\n",
    "                      }\n",
    "                     )\n",
    "emociones={'totalfeliz':[feliz['hits']['total']],'totaltriste':[triste['hits']['total']],'totalenojado':[enojado['hits']['total']]\n",
    "          ,'totalsorprendido':[sorprendido['hits']['total']]}\n",
    "emociondata=pd.DataFrame(data=emociones)\n",
    "emociondata.sum().plot(kind='pie')\n",
    "plt.show()"
   ]
  },
  {
   "cell_type": "code",
   "execution_count": null,
   "metadata": {},
   "outputs": [],
   "source": []
  }
 ],
 "metadata": {
  "kernelspec": {
   "display_name": "Python 3",
   "language": "python",
   "name": "python3"
  },
  "language_info": {
   "codemirror_mode": {
    "name": "ipython",
    "version": 3
   },
   "file_extension": ".py",
   "mimetype": "text/x-python",
   "name": "python",
   "nbconvert_exporter": "python",
   "pygments_lexer": "ipython3",
   "version": "3.7.0"
  }
 },
 "nbformat": 4,
 "nbformat_minor": 2
}
