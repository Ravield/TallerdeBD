{
 "cells": [
  {
   "cell_type": "code",
   "execution_count": 1,
   "metadata": {},
   "outputs": [
    {
     "name": "stdout",
     "output_type": "stream",
     "text": [
      "\u001b[0;1;32m●\u001b[0m neo4j.service - Neo4j Graph Database\r\n",
      "   Loaded: loaded (/lib/systemd/system/neo4j.service; disabled; vendor preset: enabled)\r\n",
      "   Active: \u001b[0;1;32mactive (running)\u001b[0m since dom 2018-08-05 14:32:10 -04; 166ms ago\r\n",
      " Main PID: 4767 (bash)\r\n",
      "   CGroup: /system.slice/neo4j.service\r\n",
      "           ├─4767 bash /usr/share/neo4j/bin/neo4j console\r\n",
      "           ├─4797 bash /usr/share/neo4j/bin/neo4j console\r\n",
      "           ├─4798 /usr/bin/java -version\r\n",
      "           └─4799 grep -E -q (Java HotSpot\\(TM\\)|OpenJDK|IBM) (64-Bit Server|...\r\n",
      "\r\n",
      "ago 05 14:32:10 marco-pc systemd[1]: Started Neo4j Graph Database.\r\n"
     ]
    }
   ],
   "source": [
    "!systemctl start neo4j.service\n",
    "!systemctl status neo4j.service"
   ]
  },
  {
   "cell_type": "code",
   "execution_count": 17,
   "metadata": {},
   "outputs": [],
   "source": [
    "from py2neo import Graph\n",
    "from py2neo import Node, Relationship\n",
    "from pandas import DataFrame"
   ]
  },
  {
   "cell_type": "code",
   "execution_count": 18,
   "metadata": {},
   "outputs": [],
   "source": [
    "dongraph = Graph(host=\"localhost\",user=\"neo4j\",password=\"marco1992\")\n",
    "dg=dongraph.begin()"
   ]
  },
  {
   "cell_type": "code",
   "execution_count": 19,
   "metadata": {},
   "outputs": [],
   "source": [
    "#creacion de nodos\n",
    "marco = Node(\"Persona\",name = \"Marco\",age=25)\n",
    "INFO273 = Node(\"Asignatura\",name = \"EVALUACION DE DESEMPEÑO\")\n",
    "INFO268 = Node(\"Asignatura\",name = \"TALLER DE BASE DE DATOS\")\n",
    "INFO189 = Node(\"Asignatura\",name = \"SOFTWARE DE INGENIERIA\")\n",
    "INFO275 = Node(\"Asignatura\",name = \"SISTEMAS DE GESTION ESTRATEGICOS\")\n",
    "INFO252 = Node(\"Asignatura\",name = \"PROYECTO I\")\n",
    "INFO251 = Node(\"Asignatura\",name = \"SEMINARIO DE ETICA PROFESIONAL \")\n",
    "CIDI108 = Node(\"Asignatura\",name = \"INGLES FUNCIONAL\")\n",
    "semestre1 = Node(\"Semestre\",name = \"primer semestre\")\n"
   ]
  },
  {
   "cell_type": "code",
   "execution_count": 20,
   "metadata": {},
   "outputs": [],
   "source": [
    "#creacion de relaciones\n",
    "dongraph.create(Relationship(marco, \"Cursa\", INFO273))\n",
    "dongraph.create(Relationship(marco, \"Cursa\", INFO268))\n",
    "dongraph.create(Relationship(marco, \"Cursa\", INFO189))\n",
    "dongraph.create(Relationship(marco, \"Cursa\", INFO275))\n",
    "dongraph.create(Relationship(marco, \"Cursa\", INFO252))\n",
    "dongraph.create(Relationship(marco, \"Cursa\", INFO251))\n",
    "dongraph.create(Relationship(marco, \"Cursa\", CIDI108))\n",
    "dongraph.create(Relationship(INFO273, \"Ramo de\", semestre1))\n",
    "dongraph.create(Relationship(INFO268, \"Ramo de\", semestre1))\n",
    "dongraph.create(Relationship(INFO189, \"Ramo de\", semestre1))\n",
    "dongraph.create(Relationship(INFO275, \"Ramo de\", semestre1))\n",
    "dongraph.create(Relationship(INFO252, \"Ramo de\", semestre1))\n",
    "dongraph.create(Relationship(INFO251, \"Ramo de\", semestre1))\n",
    "dongraph.create(Relationship(CIDI108, \"Ramo de\", semestre1))"
   ]
  },
  {
   "cell_type": "code",
   "execution_count": 21,
   "metadata": {},
   "outputs": [
    {
     "data": {
      "text/html": [
       "<div>\n",
       "<style scoped>\n",
       "    .dataframe tbody tr th:only-of-type {\n",
       "        vertical-align: middle;\n",
       "    }\n",
       "\n",
       "    .dataframe tbody tr th {\n",
       "        vertical-align: top;\n",
       "    }\n",
       "\n",
       "    .dataframe thead th {\n",
       "        text-align: right;\n",
       "    }\n",
       "</style>\n",
       "<table border=\"1\" class=\"dataframe\">\n",
       "  <thead>\n",
       "    <tr style=\"text-align: right;\">\n",
       "      <th></th>\n",
       "      <th>a.name</th>\n",
       "    </tr>\n",
       "  </thead>\n",
       "  <tbody>\n",
       "    <tr>\n",
       "      <th>0</th>\n",
       "      <td>TALLER DE BASE DE DATOS</td>\n",
       "    </tr>\n",
       "    <tr>\n",
       "      <th>1</th>\n",
       "      <td>SOFTWARE DE INGENIERIA</td>\n",
       "    </tr>\n",
       "    <tr>\n",
       "      <th>2</th>\n",
       "      <td>SISTEMAS DE GESTION ESTRATEGICOS</td>\n",
       "    </tr>\n",
       "    <tr>\n",
       "      <th>3</th>\n",
       "      <td>PROYECTO I</td>\n",
       "    </tr>\n",
       "    <tr>\n",
       "      <th>4</th>\n",
       "      <td>SEMINARIO DE ETICA PROFESIONAL</td>\n",
       "    </tr>\n",
       "    <tr>\n",
       "      <th>5</th>\n",
       "      <td>INGLES FUNCIONAL</td>\n",
       "    </tr>\n",
       "    <tr>\n",
       "      <th>6</th>\n",
       "      <td>EVALUACION DE DESEMPEÑO</td>\n",
       "    </tr>\n",
       "  </tbody>\n",
       "</table>\n",
       "</div>"
      ],
      "text/plain": [
       "                             a.name\n",
       "0           TALLER DE BASE DE DATOS\n",
       "1            SOFTWARE DE INGENIERIA\n",
       "2  SISTEMAS DE GESTION ESTRATEGICOS\n",
       "3                        PROYECTO I\n",
       "4   SEMINARIO DE ETICA PROFESIONAL \n",
       "5                  INGLES FUNCIONAL\n",
       "6           EVALUACION DE DESEMPEÑO"
      ]
     },
     "execution_count": 21,
     "metadata": {},
     "output_type": "execute_result"
    }
   ],
   "source": [
    "#consultas\n",
    "#dongraph.delete_all()\n",
    "dg.run(\"MATCH (a:Asignatura) RETURN a.name\").to_data_frame()"
   ]
  },
  {
   "cell_type": "code",
   "execution_count": null,
   "metadata": {},
   "outputs": [],
   "source": []
  }
 ],
 "metadata": {
  "kernelspec": {
   "display_name": "Python 3",
   "language": "python",
   "name": "python3"
  },
  "language_info": {
   "codemirror_mode": {
    "name": "ipython",
    "version": 3
   },
   "file_extension": ".py",
   "mimetype": "text/x-python",
   "name": "python",
   "nbconvert_exporter": "python",
   "pygments_lexer": "ipython3",
   "version": "3.5.2"
  }
 },
 "nbformat": 4,
 "nbformat_minor": 2
}
