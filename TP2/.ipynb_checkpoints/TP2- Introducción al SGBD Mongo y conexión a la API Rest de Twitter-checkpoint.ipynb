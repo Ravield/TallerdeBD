{
 "cells": [
  {
   "cell_type": "markdown",
   "metadata": {},
   "source": [
    "# TP2- Introducción al SGBD MongoDB y Conexión a la API Rest de Twitter"
   ]
  },
  {
   "cell_type": "markdown",
   "metadata": {},
   "source": [
    "En este trabajo práctico queremos descubrir las características del SGBD no relacional MongoDB. En este sentido, vamos a desarrollar un script que se conecta a la API Rest de Twitter para: 1) descargar datos al formato JSON, 2) almacenarlos en una base Mongo y 3) realizar algunas consultas sobre los datos."
   ]
  },
  {
   "cell_type": "markdown",
   "metadata": {},
   "source": [
    "## 1. Conectarse a la API Rest de Twitter"
   ]
  },
  {
   "cell_type": "markdown",
   "metadata": {},
   "source": [
    "- ¿Cómo crear una aplicación utilizando los datos de Twitter?: https://developer.twitter.com/en/docs/basics/getting-started\n",
    "- Crear una aplicación utilizando los datos de Twitter: https://apps.twitter.com/\n",
    "- ¿Qué deberían saber todos los desarrolladores antes de jugar con la API de twitter?: https://developer.twitter.com/en/docs/basics/things-every-developer-should-know"
   ]
  },
  {
   "cell_type": "code",
   "execution_count": 1,
   "metadata": {},
   "outputs": [],
   "source": [
    "from twython import Twython\n",
    "\n",
    "APP_KEY = 'eGeBZaHYfDSWRwuoVkLso5de4'\n",
    "APP_SECRET = 'nbsZSGg90jLvtc6DxyK2PqvIDDI0h8gQ3pCfuYuJo1b8yHL8F1'\n",
    "OAUTH_TOKEN = '250409598-7Ca7Tv90s1u4mbiIuurKskryClS1WcnGma9unW16'\n",
    "OAUTH_TOKEN_SECRET = 'p606FeOvl2UuwMq1FykXtnn3EAUVWsmELr6xChu4jBbpd'\n",
    "\n",
    "twitter = Twython(APP_KEY, APP_SECRET,OAUTH_TOKEN, OAUTH_TOKEN_SECRET)"
   ]
  },
  {
   "cell_type": "markdown",
   "metadata": {},
   "source": [
    "## 2. Consultar la API de Twitter"
   ]
  },
  {
   "cell_type": "markdown",
   "metadata": {},
   "source": [
    "- Utilizando una librería Python que permite enviar consultas HTTP a la API de Twitter, conectarse a un 'endpoint' de la API para leer datos. Ver la lista de los endpoints: https://developer.twitter.com/en/docs/tweets/post-and-engage/overview"
   ]
  },
  {
   "cell_type": "code",
   "execution_count": 2,
   "metadata": {},
   "outputs": [
    {
     "name": "stdout",
     "output_type": "stream",
     "text": [
      "@Cooperativa @AldoRomuloS @marcelobarti @polaco_goldberg Me parece que CC puede ganar el clásico, mal y todo como a… https://t.co/OGPwdSLrQk\n",
      "///////////////\n",
      "@ColoColo Vamos que hoy dia se gana mierda!!! Hoy tienen que aparecer con mas fuerza los Valdivia, Valdes y Paredes… https://t.co/VS2YSgW41X\n",
      "///////////////\n",
      "@jmc_valdivia Que suelto de cuerpo, Teilier para mentir, justificando a su sobrino, q fue detenido en Temuco, con p… https://t.co/pnXYlrlvnQ\n",
      "///////////////\n",
      "RT @FcoDarmendral: Día sombrío en el río Valdivia tras el terremoto de 1960. Fotografía de Mario Guillard. https://t.co/YNTQhVjhiq\n",
      "///////////////\n",
      "@LucasGomes9922 @Alanziitoooo @SaoPauloFC Tlgd , agr o São Paulo tá necessitando d um atacante estilo ele , Marcos… https://t.co/KkHELcu4SI\n",
      "///////////////\n",
      "@Duran_spfc @ELSanPabloFC @SaoPauloFC Sidão, Militão, arboleda, R. Caio, Regis e Jr tavares, lizieiro, Petros, juci… https://t.co/ZKDY3iAYll\n",
      "///////////////\n",
      "RT @lectorcl: ¡Hoy! Desde las 10.30 a las 14.30 horas Libros sin IVA en el jardín de la Fundación Cultural de Providencia, a pasos del Metr…\n",
      "///////////////\n",
      "@MariaPargy Ahora soy el icono bollero del Pedro de Valdivia (y la reina también)\n",
      "///////////////\n",
      "RT @LeonMuhlenbrock: @consuelolaso @felipeharboe Se garantiza el ministerio tendrá que trasladar a un doctor o al paciente cómo se hace con…\n",
      "///////////////\n",
      "RT @RedInvestChile: #marchaporlaciencia \n",
      "\n",
      "Menos ego, más cooperación\n",
      "Más mujeres\n",
      "Tomando decisión\n",
      "\n",
      "En Valdivia, Concepción, Coyhaique\n",
      "Y Val…\n",
      "///////////////\n",
      "RT @IbarraPF81: Los 11 del popular para hoy \n",
      "Orión\n",
      "-\n",
      "Campos\n",
      "Insaurralde\n",
      "Zaldivia\n",
      "Opazo\n",
      "-\n",
      "Baeza\n",
      "Carmona\n",
      "Valdés\n",
      "Valdivia\n",
      "-\n",
      "Rivero\n",
      "Paredes\n",
      "#Va…\n",
      "///////////////\n",
      "RT @IbarraPF81: Los 11 del popular para hoy \n",
      "Orión\n",
      "-\n",
      "Campos\n",
      "Insaurralde\n",
      "Zaldivia\n",
      "Opazo\n",
      "-\n",
      "Baeza\n",
      "Carmona\n",
      "Valdés\n",
      "Valdivia\n",
      "-\n",
      "Rivero\n",
      "Paredes\n",
      "#Va…\n",
      "///////////////\n",
      "RT @EdgarChaura: Se perdió perro llamado Ragnar sector isla Teja! Cualquier cosa al número +56 9 7887 1792 o +56950695546 ! #Valdivia #vald…\n",
      "///////////////\n",
      "@felinnlahumana Pero tú no eras la reina heterosexual del Pedro de Valdivia?\n",
      "///////////////\n",
      "RT @RedInvestChile: #marchaporlaciencia \n",
      "\n",
      "Menos ego, más cooperación\n",
      "Más mujeres\n",
      "Tomando decisión\n",
      "\n",
      "En Valdivia, Concepción, Coyhaique\n",
      "Y Val…\n",
      "///////////////\n",
      "RT @IbarraPF81: Los 11 del popular para hoy \n",
      "Orión\n",
      "-\n",
      "Campos\n",
      "Insaurralde\n",
      "Zaldivia\n",
      "Opazo\n",
      "-\n",
      "Baeza\n",
      "Carmona\n",
      "Valdés\n",
      "Valdivia\n",
      "-\n",
      "Rivero\n",
      "Paredes\n",
      "#Va…\n",
      "///////////////\n",
      "Los 11 del popular para hoy \n",
      "Orión\n",
      "-\n",
      "Campos\n",
      "Insaurralde\n",
      "Zaldivia\n",
      "Opazo\n",
      "-\n",
      "Baeza\n",
      "Carmona\n",
      "Valdés\n",
      "Valdivia\n",
      "-\n",
      "Rivero\n",
      "Par… https://t.co/hcFVhrVOVG\n",
      "///////////////\n",
      "RT @JairoSa81951568: @TransitoPolicia @Grlcastrillon general los camioneros solicitamos que el puesto de control que está ala entrada de Va…\n",
      "///////////////\n",
      "RT @karina_bravof: La @RedInvestChile en la marcha por la ciencia y el conocimiento también estuvo presente en regiones.\n",
      "Valdivia\n",
      "Valaparaí…\n",
      "///////////////\n",
      "[TIEMPO] Valdivia: Nublado y niebla, ocasionalmente nubosidad parcial ⛅️ Máx. 19 ºC 🌡️ Panguipulli: Nublado, ocasio… https://t.co/X8AaeZwMee\n",
      "///////////////\n",
      "Domingo 15-04-2018 - Farmacia de Turno: AHUMADA - Dirección: RAMÓN PICARTE Nº 310 - Tel:+560226313194 - Comuna: VAL… https://t.co/VUf6IK5rJF\n",
      "///////////////\n",
      "Domingo 15-04-2018 - Farmacia de Turno: CRUZ VERDE - Dirección: AV. P DE VALDIVIA 976 - Tel:+56412333960 - Comuna:… https://t.co/G9399hg3Za\n",
      "///////////////\n",
      "@padariaDocePao @driccos Nossa, mas não era msm.\n",
      "\n",
      "D.Fernandes\n",
      "Williiam Paulão Ernando Alex (andrigo)\n",
      "Dourado Anselm… https://t.co/B5IKRXZwTx\n",
      "///////////////\n",
      "Por qué crear malditas leyes para asesinar a un inocente? que puede ser gran aporte para el país y el planeta?, mej… https://t.co/RmIW8wzGFy\n",
      "///////////////\n",
      "RT @HermaneMarley: #RutaCooperativa La MAFIA de #ColoColo tiene que terminar.Chao Guede vende humo,el payaso de  Mosa,los intocables Parede…\n",
      "///////////////\n",
      "@felipeharboe Aberrante declaración, asesino.  Por qué matar a un inocente, que puede ser gran aporte para Chile y… https://t.co/KBkNH88CG6\n",
      "///////////////\n",
      "RT @CANALDEOPINION: Cena del Pollo Valdivia: 1 kilo de reineta= $3.000. 2 tomates= $600 el kilo. 50grs. de sal de mar= $300 1/8 de mantequi…\n",
      "///////////////\n",
      "RT @CANALDEOPINION: Cena del Pollo Valdivia: 1 kilo de reineta= $3.000. 2 tomates= $600 el kilo. 50grs. de sal de mar= $300 1/8 de mantequi…\n",
      "///////////////\n",
      "RT @HermaneMarley: #RutaCooperativa La MAFIA de #ColoColo tiene que terminar.Chao Guede vende humo,el payaso de  Mosa,los intocables Parede…\n",
      "///////////////\n",
      "RT @chanipati: Que roto encuentro al Pollo Valdivia en #LaDivinaComida , come como si se fuera a acabar el mundo, toma vino como condenado,…\n",
      "///////////////\n",
      "RT @soyvalparaiso: Instalan 15 puntos de reciclaje en clínica en el sector de Reñaca de Viña del Mar » https://t.co/zcsIglVAPc https://t.co…\n",
      "///////////////\n",
      "RT @radiocarab: 09:52 Tránsito habilitado, línea Avda. Pedro de Valdivia y Avda. Irarrázaval; se mantiene contención en Antonio Varas entre…\n",
      "///////////////\n",
      "RT @fernandoubiergo: Es noche aún y nuestra nave cruza inquieta la espesa niebla entre los bosques de Valdivia y la ruta 5 Sur. Duermen mis…\n",
      "///////////////\n",
      "09:52 Tránsito habilitado, línea Avda. Pedro de Valdivia y Avda. Irarrázaval; se mantiene contención en Antonio Var… https://t.co/sA5QSsNtso\n",
      "///////////////\n",
      "@felipeharboe Lamentable que no quiera nietos, porque tiene que abortarlos, ud. es una verguenza, como mujer para m… https://t.co/J0wtxIVFry\n",
      "///////////////\n",
      "Operación renta 2018: Estudiantes del Liceo Comercial de Valdivia asesoran a contribuyentes - El Naveghable… https://t.co/SrTknlY6ee\n",
      "///////////////\n",
      "RT @QuintanaChile: Por lo que se aprecia hoy, la formación sería. \n",
      "Orión; Campos, Zaldivia, Insaurralde, Opazo; Carmona, Baeza, Valdés, Val…\n",
      "///////////////\n",
      "RT @ladygaga: Love you #BeyHive @Beyonce Have fun celebrating all that love in the desert. When it’s dry and we are thirsty, music will bri…\n",
      "///////////////\n",
      "RT @drakedoremus: ONE week from TONIGHT! #zoe @Tribeca #longingtown https://t.co/yXgqG63ywU\n",
      "///////////////\n",
      "RT @StephenAmell: Best part about today was @KeiynanLonsdale — what a guy!\n",
      "///////////////\n",
      "RT @MelissaBenoist: 🎂 hbd to you ❤️ https://t.co/hWV6sdXb1o\n",
      "///////////////\n",
      "RT @StephenAmell: .@alt_J is the leader in the clubhouse for best set at Coachella.\n",
      "///////////////\n",
      "RT @FcoDarmendral: Día sombrío en el río Valdivia tras el terremoto de 1960. Fotografía de Mario Guillard. https://t.co/YNTQhVjhiq\n",
      "///////////////\n",
      "RT @CANALDEOPINION: Cena del Pollo Valdivia: 1 kilo de reineta= $3.000. 2 tomates= $600 el kilo. 50grs. de sal de mar= $300 1/8 de mantequi…\n",
      "///////////////\n",
      "excelente...gracias...no queremos mas pobreza que dejó @mbachelet , es lamentable...yo los ayudo en lo que puedo...… https://t.co/PeGtoGH4C2\n",
      "///////////////\n",
      "mentira...todos sabemos que las estadísticas estan siendo menejadas por MANOS ROJAS, asi que no creemos nada de est… https://t.co/xj9VUOUkTC\n",
      "///////////////\n",
      "@NandoJRocha O último que eu fui foi contra o Cruzeiro, o Beira-Rio Inter pouco se fodendo pro jogo, só queríamos c… https://t.co/gqy8YjhLUs\n",
      "///////////////\n",
      "RT @CANALDEOPINION: Cena del Pollo Valdivia: 1 kilo de reineta= $3.000. 2 tomates= $600 el kilo. 50grs. de sal de mar= $300 1/8 de mantequi…\n",
      "///////////////\n",
      "RT @chanipati: Que roto encuentro al Pollo Valdivia en #LaDivinaComida , come como si se fuera a acabar el mundo, toma vino como condenado,…\n",
      "///////////////\n",
      "verguenza nacional este parásito, ganando millones para solo poner la cara de imbécil detras de un escritorio.... q… https://t.co/bCNtp5orxs\n",
      "///////////////\n",
      "RT @BeerJSValdivia: Poco menos de una semanita para la próxima #BeerJSValdivia 😱 Ya estamos preparando las presentaciones para el 19 de abr…\n",
      "///////////////\n",
      "Y este asesino de Tellier, deberian entrevistarlo desde la cárcel, donde estan los asesinos terroristas que dan mue… https://t.co/sUQiHNy6g0\n",
      "///////////////\n",
      "RT @QuintanaChile: Por lo que se aprecia hoy, la formación sería. \n",
      "Orión; Campos, Zaldivia, Insaurralde, Opazo; Carmona, Baeza, Valdés, Val…\n",
      "///////////////\n",
      "@joseantoniokast Felipe será abuelo porque asi lo decide, hará con sus hijos lo mismo?? abortar a sus nietos y bisn… https://t.co/qh0YjNNrpw\n",
      "///////////////\n",
      "@reggeboy9 @camilo_zamora @canal_CDO @CDCLosLeones @CDVBasket @cd_lasanimas @espinozabasquet No entendí este coment… https://t.co/3gzYW1U5aS\n",
      "///////////////\n",
      "Fuerza desde La Serena, para @sebastianpinera , todo mi apoyo....y Dios lo siga bendiciendo... https://t.co/dKFfx1kSif\n",
      "///////////////\n",
      "RT @REAraucania: Av.Pedro de Valdivia desde Charaña hasta Villa San Marcos diferentes empresas realizando trabajos #Temuco #Precaución http…\n",
      "///////////////\n",
      "Soy yo no más o a nadie le incomodó como pollo Valdivia le contesta mal a Claudia C. mientras él cocina? #LaDivinaComida\n",
      "///////////////\n",
      "asi debe ser....sólo un valiente...lo puede... y si votamos por @sebastianpinera , es porque confiamos en él y en D… https://t.co/rhGrrtwbeS\n",
      "///////////////\n",
      "@Ira39517412 @xkatedominique @Elaine_Valdivia Yehey! Thank you! Mwwwuuuaahhh!!!! 😚😚😘😘❤️❤️\n",
      "///////////////\n",
      "RT @Aracely08214394: #contravientoymarea @PANCHOSAAVEDRA  equipo de contra viento y marea pido su ayuda para alegrar la boda a una  amiga d…\n",
      "///////////////\n",
      "@AkingIsip @jmc_valdivia Y quien designaba a los expertos ? Quien es el porfiado ?\n",
      "///////////////\n",
      "RT @fernandoubiergo: Es noche aún y nuestra nave cruza inquieta la espesa niebla entre los bosques de Valdivia y la ruta 5 Sur. Duermen mis…\n",
      "///////////////\n",
      "RT @valizepeda: Pucha cuando trato de buscar algo en la Tv me encuentro con #HorroresDeCalculo en #Discovery \n",
      "Que cosa? Nuestro Puente Cau…\n",
      "///////////////\n",
      "RT @chilevision: [Capítulo completo] Daniela Castillo, Yuhui, Pollo Valdivia y Pata Larraín fueron los anfitriones de este nuevo capítulo d…\n",
      "///////////////\n",
      "RT @valizepeda: Pucha cuando trato de buscar algo en la Tv me encuentro con #HorroresDeCalculo en #Discovery \n",
      "Que cosa? Nuestro Puente Cau…\n",
      "///////////////\n",
      "RT @HermaneMarley: #RutaCooperativa La MAFIA de #ColoColo tiene que terminar.Chao Guede vende humo,el payaso de  Mosa,los intocables Parede…\n",
      "///////////////\n",
      "Presidio perpetuo, por todo y grave daño ocasionado a Chile, a la Bandera y a la verguenza y desprestigio...planeta… https://t.co/3LgjU4Gkuq\n",
      "///////////////\n",
      "que se vayan a cuba...a ver si le aguantan facturas falsas....estos estafadores son el daño mas grande que ha recib… https://t.co/CuyT43RzSA\n",
      "///////////////\n",
      "RT @CANALDEOPINION: Cena del Pollo Valdivia: 1 kilo de reineta= $3.000. 2 tomates= $600 el kilo. 50grs. de sal de mar= $300 1/8 de mantequi…\n",
      "///////////////\n",
      "RT @RedInvestChile: #marchaporlaciencia \n",
      "\n",
      "Menos ego, más cooperación\n",
      "Más mujeres\n",
      "Tomando decisión\n",
      "\n",
      "En Valdivia, Concepción, Coyhaique\n",
      "Y Val…\n",
      "///////////////\n",
      "@DrNemmo @jbellolio @Josefcolagos Viajarán a Puerto Montt o Valdivia\n",
      "///////////////\n",
      "RT @cbvaldiviacl: Este 28 y 29 de Abril +SÚMATE a ser un Socio del Cuerpo de Bomberos de Valdivia, Campaña Económica 2018, tu Proteges a tu…\n",
      "///////////////\n",
      "@suzu90514747 どの通貨に投資するかって、そんなものジンバブエドル一択でしょう！　レバレッジ*1000フルスロットルで\n",
      "///////////////\n",
      "RT @CANALDEOPINION: Cena del Pollo Valdivia: 1 kilo de reineta= $3.000. 2 tomates= $600 el kilo. 50grs. de sal de mar= $300 1/8 de mantequi…\n",
      "///////////////\n",
      "@realDonaldTrump  Felicitaciones desde Chile....bendiciones para su pueblo, rezamos por Siria, en cadena cada día,… https://t.co/UbGpBgGWp8\n",
      "///////////////\n",
      "RT @miriam_gijon1: #LaDivinaComida Pollo Valdivia más pesado que tanque a pedales, la Daniela Castillo chica simpática, Pata Larraín, otro…\n",
      "///////////////\n",
      "Difunden campaña “Acaso es Acoso” en tribunales de Valdivia https://t.co/7wLVqMEDYs\n",
      "///////////////\n",
      "Difunden campaña “Acaso es Acoso” en tribunales de Valdivia https://t.co/bcNiuBDo97\n",
      "///////////////\n",
      "RT @soyvalparaiso: Instalan 15 puntos de reciclaje en clínica en el sector de Reñaca de Viña del Mar » https://t.co/zcsIglVAPc https://t.co…\n",
      "///////////////\n",
      "RT @ProAlexis23: Oye Pollo Valdivia, no te puedes creer el El Cach**o de las Pampas, cuando la Claudita te cagó con el Sonri. #LaDivinaComi…\n",
      "///////////////\n",
      "@SPFC_Aracknoide @ELSanPabloFC Everton, valdivia, nenê  e Carneiro.\n",
      "///////////////\n",
      "RT @CANALDEOPINION: Cena del Pollo Valdivia: 1 kilo de reineta= $3.000. 2 tomates= $600 el kilo. 50grs. de sal de mar= $300 1/8 de mantequi…\n",
      "///////////////\n",
      "もう少しツイッター見たいけど、やらねばならないことがある。離脱\n",
      "///////////////\n",
      "そんな話があったのか。知らなかった。「（自分に）余裕がなかったんでしょうね」と返す伊藤豊明、なかなかやるなｗ　#keirin\n",
      "///////////////\n",
      "RT @C_Oettinger: 🏡 CASA + CABAÑA BARRIO EL BOSQUE \n",
      "$130.000.000\n",
      "\n",
      "☎️ +56 9 74210868\n",
      "Conoce más propiedades en #valdiviacl:\n",
      "💻 https://t.co/LJ…\n",
      "///////////////\n",
      "RT @fernandoubiergo: Se va el día en la bella Valdivia.  \n",
      "Esta noche nuestro concierto a las 22:30 https://t.co/lEkw6aqQYF\n",
      "///////////////\n",
      "『本田氏がオールスター優勝後に伊藤氏からミカン箱を贈られて「この中に（オールスター優勝の）副賞の高級車のキーが入ってるかもと思うたけど、ミカンとすだちだけでした」と明かすと、伊藤氏は「（自分に）余裕がなかったんでしょうね」と決勝戦を振り返った』\n",
      "///////////////\n",
      "RT @6Carlos10: Esta tarde hay una FINAL en el Primero de Mayo. Solo vale el +3. Todos al campo!!!! Vamos @cp_valdivia 💚\n",
      "///////////////\n",
      "15/04/2018 \n",
      "ESTA MADRUGADA: INCENDIO EN CASA ABANDONADA DE #VALDIVIA… https://t.co/grG61Muy3o\n",
      "///////////////\n",
      "RT @FcoDarmendral: Día sombrío en el río Valdivia tras el terremoto de 1960. Fotografía de Mario Guillard. https://t.co/YNTQhVjhiq\n",
      "///////////////\n",
      "RT @chico_perez: Y aquí estoy... En casa de nuevo, con mi gente, con los que te quieren.\n",
      "\n",
      "Nos vemos éste noche en Suka!\n",
      "\n",
      "PD: Si o no que #V…\n",
      "///////////////\n",
      "RT @yorunobannin1: 【競輪】松山で伊藤豊明、本田晴美トークショー　３１年前の番手まくりをＶＴＲで検証（デイリースポーツ） - Yahoo!ニュース https://t.co/xEkwO5wxVQ\n",
      "///////////////\n",
      "RT @kbou55: 本田「当時は凄く怒った。年取ったらいい思い出」\n",
      "伊藤「ここに立たせてもらってるのは本田さんのおかげ」\n",
      "///////////////\n",
      "RT @kbou55: 伊藤「オールスターを取らしてもらったレースの映像を流しながらトークショーした」\n",
      "本田「誰も来てないのに番手捲りしたヤツですねw」 https://t.co/yr1po5Si3D\n",
      "///////////////\n",
      "Swing by the Foucault pendulum of Valdivia - Brinkwire (press release) https://t.co/Sf9rBzirlS\n",
      "///////////////\n",
      "Difunden campaña “Acaso es Acoso” en tribunales de Valdivia https://t.co/zyOgq9PCtd\n",
      "///////////////\n",
      "ここ数年で「サムライ」と呼ばれる男達の共通項。\n",
      "・酒もギャンブルもやる　・嫁を「メシ炊き女」と呼ぶ　・嫁には「ありがとう」など言わない　・嫁に「お願いします」など言うわけがない　・家事？何それ　・結婚後、嫁に何も言わず男友人とフラッと競輪旅打ちに出る。　考えさせられる……\n",
      "///////////////\n",
      "RT @DiarioConst: CGR se pronuncia sobre modificación del Plan Regulador Comunal de Valdivia.https://t.co/QnudeKmKgG https://t.co/6kanjgYvzn\n",
      "///////////////\n",
      "RT @FerrZungri: La iglesia, otra vez, demostrando por qué es una de las instituciones más nefastas y asquerosas de la historia https://t.co…\n",
      "///////////////\n"
     ]
    }
   ],
   "source": [
    "A=twitter.search(q='valdivia',count=100)\n",
    "\n",
    "for i in A[\"statuses\"]:\n",
    "    print(i[\"text\"])\n",
    "    print(\"///////////////\")\n",
    "    t = {\n",
    "        'created_at':i['created_at'],\n",
    "        'text':i['text'],\n",
    "        'name':i['user']['name'],\n",
    "        'description':i['user']['description'],\n",
    "        'location':i['user']['location']\n",
    "    }"
   ]
  },
  {
   "cell_type": "markdown",
   "metadata": {},
   "source": [
    "## 3. Conectarse al SGBD Mongo"
   ]
  },
  {
   "cell_type": "markdown",
   "metadata": {},
   "source": [
    "- Conectarse a Mongo desde Python utilizando la librería adecuada"
   ]
  },
  {
   "cell_type": "code",
   "execution_count": 3,
   "metadata": {},
   "outputs": [],
   "source": [
    "import pymongo\n",
    "from pymongo import MongoClient\n",
    "\n",
    "client = pymongo.MongoClient()\n",
    "db = client.test"
   ]
  },
  {
   "cell_type": "markdown",
   "metadata": {},
   "source": [
    "## 4. Escribir datos de Twitter en una Base de Datos Mongo"
   ]
  },
  {
   "cell_type": "code",
   "execution_count": 4,
   "metadata": {},
   "outputs": [],
   "source": [
    "A=twitter.search(q='@NintendoAmerica', result_type='popular',count=15)\n",
    "\n",
    "for i in A[\"statuses\"]:\n",
    "    t = {\n",
    "        'created_at':i['created_at'],\n",
    "        'text':i['text'],\n",
    "        'name':i['user']['name'],\n",
    "        'description':i['user']['description'],\n",
    "        'location':i['user']['location']\n",
    "    }\n",
    "    db.tweets.insert_one(t)"
   ]
  },
  {
   "cell_type": "markdown",
   "metadata": {},
   "source": [
    "- #### mostrar por lugar"
   ]
  },
  {
   "cell_type": "code",
   "execution_count": 5,
   "metadata": {},
   "outputs": [
    {
     "name": "stdout",
     "output_type": "stream",
     "text": [
      "\n",
      "\n",
      "Uppsala, Sweden\n",
      "England, United Kingdom\n",
      "\n",
      "Boston, MA, USA\n",
      "Bordeaux, France\n",
      "Ontario, Canada\n",
      "Uppsala, Sweden\n",
      "Milwaukie, Oregon\n",
      "Austin, TX\n",
      "New York, USA\n",
      "\n",
      "\n",
      "Uppsala, Sweden\n",
      "\n",
      "Bordeaux, France\n",
      "Milwaukie, Oregon\n",
      "England, United Kingdom\n",
      "\n",
      "\n",
      "Uppsala, Sweden\n",
      "\n",
      "Bordeaux, France\n",
      "Milwaukie, Oregon\n",
      "England, United Kingdom\n",
      "\n",
      "\n",
      "Uppsala, Sweden\n",
      "\n",
      "Bordeaux, France\n",
      "Milwaukie, Oregon\n",
      "England, United Kingdom\n"
     ]
    }
   ],
   "source": [
    "result = db.tweets.find({})\n",
    "for tweet in result:\n",
    "    print(tweet['location'])"
   ]
  },
  {
   "cell_type": "markdown",
   "metadata": {},
   "source": [
    "- #### tweets que contienen la palabra \"UACh\""
   ]
  },
  {
   "cell_type": "code",
   "execution_count": 6,
   "metadata": {},
   "outputs": [
    {
     "name": "stdout",
     "output_type": "stream",
     "text": [
      "0\n"
     ]
    }
   ],
   "source": [
    "result = db.tweets.find({'tweet_text':{'$regex':'UACh',\"$options\":\"$i\"}})\n",
    "print(result.count())\n",
    "for tweet in result:\n",
    "    print(tweet['tweet_text'])"
   ]
  },
  {
   "cell_type": "markdown",
   "metadata": {},
   "source": [
    "- #### contar tweets por usuario"
   ]
  },
  {
   "cell_type": "code",
   "execution_count": 7,
   "metadata": {},
   "outputs": [
    {
     "name": "stdout",
     "output_type": "stream",
     "text": [
      "{'total': 1, '_id': 'Tech Insider'}\n",
      "{'total': 4, '_id': 'Liam Robertson'}\n",
      "{'total': 4, '_id': 'Motion Twin'}\n",
      "{'total': 5, '_id': 'Wolfenstein'}\n",
      "{'total': 4, '_id': 'Dark Souls'}\n",
      "{'total': 1, '_id': 'Harmonix'}\n",
      "{'total': 4, '_id': 'Crash Bandicoot'}\n",
      "{'total': 4, '_id': 'Dark Horse Comics'}\n",
      "{'total': 4, '_id': 'Hasbro'}\n",
      "{'total': 1, '_id': '#DESTROYERS 🇨🇦'}\n",
      "{'total': 1, '_id': 'Jools Watsham'}\n"
     ]
    }
   ],
   "source": [
    "result = db.tweets.aggregate([{\"$group\":{\"_id\":\"$name\",\"total\":{\"$sum\":1}}}])\n",
    "for tweet in result:\n",
    "    print(tweet)"
   ]
  },
  {
   "cell_type": "markdown",
   "metadata": {},
   "source": [
    "#### Parte 2"
   ]
  },
  {
   "cell_type": "markdown",
   "metadata": {},
   "source": [
    "#### 1) En una sola consulta, actualizar los documentos tweets que hablan de \"valdiviacl\", agregando un campo \"city\" con el valor siguiente: { type: \"Point\", coordinates: [-73.245209,-39.819588] }"
   ]
  },
  {
   "cell_type": "code",
   "execution_count": 16,
   "metadata": {},
   "outputs": [
    {
     "data": {
      "text/plain": [
       "<pymongo.results.UpdateResult at 0x7f0ed3fcd088>"
      ]
     },
     "execution_count": 16,
     "metadata": {},
     "output_type": "execute_result"
    }
   ],
   "source": [
    "db.tweets.update_many( {'tweet_text':{'$regex':'valdiviacl', \"$options\":\"$i\"}},\n",
    "                      {'$set': {'city':{'type':'Point','coordinates':[-73.245209,-39.819588]}}})"
   ]
  },
  {
   "cell_type": "markdown",
   "metadata": {},
   "source": [
    "#### 2) Recopilar algunos tweets hablando de \"Puerto Montt\" y agregar un campo \"city\" con las coordinades de Puerto Montt"
   ]
  },
  {
   "cell_type": "code",
   "execution_count": 17,
   "metadata": {},
   "outputs": [
    {
     "data": {
      "text/plain": [
       "<pymongo.results.UpdateResult at 0x7f0ed3fcd148>"
      ]
     },
     "execution_count": 17,
     "metadata": {},
     "output_type": "execute_result"
    }
   ],
   "source": [
    "db.tweets.update_many( {'tweet_text':{'$regex':'Puerto Montt', \"$options\":\"$i\"}}, \n",
    "                      {'$set': {'city':{'type':'Point','coordinates':[-41.462561,-72.9988162]}}})"
   ]
  },
  {
   "cell_type": "markdown",
   "metadata": {},
   "source": [
    "#### 3) Utilizar un operator de Mongo para recopilar el documento lo más cercano del punto: -73.131920, -40.574505"
   ]
  },
  {
   "cell_type": "code",
   "execution_count": 19,
   "metadata": {},
   "outputs": [
    {
     "name": "stdout",
     "output_type": "stream",
     "text": [
      "<pymongo.cursor.Cursor object at 0x7f0eed60e278>\n"
     ]
    }
   ],
   "source": [
    "B=db.tweets.find( {\n",
    "    'location': {\n",
    "        '$near': {\n",
    "            '$geometry': {'type': \"Point\" ,'coordinates': [-73.131920, -40.574505 ]},\n",
    "            '$maxDistance': 5000,\n",
    "            '$minDistance': 1000\n",
    "        }\n",
    "    }\n",
    "})\n",
    "print(B)"
   ]
  }
 ],
 "metadata": {
  "kernelspec": {
   "display_name": "Python 3",
   "language": "python",
   "name": "python3"
  },
  "language_info": {
   "codemirror_mode": {
    "name": "ipython",
    "version": 3
   },
   "file_extension": ".py",
   "mimetype": "text/x-python",
   "name": "python",
   "nbconvert_exporter": "python",
   "pygments_lexer": "ipython3",
   "version": "3.5.2"
  }
 },
 "nbformat": 4,
 "nbformat_minor": 2
}
